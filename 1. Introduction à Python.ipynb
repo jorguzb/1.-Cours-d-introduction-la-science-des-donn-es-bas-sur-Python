{
 "cells": [
  {
   "cell_type": "code",
   "execution_count": 2,
   "id": "66814021",
   "metadata": {},
   "outputs": [
    {
     "name": "stdout",
     "output_type": "stream",
     "text": [
      "La valeur de x est 5 et son type est <class 'int'>\n"
     ]
    }
   ],
   "source": [
    "# Introduction à Python\n",
    "\n",
    "## Variables et Types de Données\n",
    "\n",
    "# Exemple de déclaration de variable\n",
    "x = 5\n",
    "print(f\"La valeur de x est {x} et son type est {type(x)}\")\n"
   ]
  },
  {
   "cell_type": "code",
   "execution_count": 3,
   "id": "a763ad75",
   "metadata": {},
   "outputs": [
    {
     "name": "stdout",
     "output_type": "stream",
     "text": [
      "<class 'int'>\n",
      "<class 'float'>\n",
      "<class 'str'>\n",
      "<class 'bool'>\n"
     ]
    }
   ],
   "source": [
    "# Exemple de types de données\n",
    "a = 10       # int\n",
    "b = 20.5     # float\n",
    "c = \"Salut\"  # str\n",
    "d = True     # bool\n",
    "print(type(a))\n",
    "print(type(b))\n",
    "print(type(c))\n",
    "print(type(d))\n"
   ]
  },
  {
   "cell_type": "code",
   "execution_count": 4,
   "id": "1b037732",
   "metadata": {},
   "outputs": [
    {
     "name": "stdout",
     "output_type": "stream",
     "text": [
      "Addition: 13, Soustraction: 7, Multiplication: 30, Division: 3.3333333333333335\n"
     ]
    }
   ],
   "source": [
    "# Exemple d'opérations arithmétiques\n",
    "a = 10\n",
    "b = 3\n",
    "print(f\"Addition: {a + b}, Soustraction: {a - b}, Multiplication: {a * b}, Division: {a / b}\")\n"
   ]
  },
  {
   "cell_type": "code",
   "execution_count": 5,
   "id": "95398c98",
   "metadata": {
    "scrolled": true
   },
   "outputs": [
    {
     "name": "stdout",
     "output_type": "stream",
     "text": [
      "Valeur de i: 0\n",
      "Valeur de i: 1\n",
      "Valeur de i: 2\n",
      "Valeur de i: 3\n",
      "Valeur de i: 4\n"
     ]
    }
   ],
   "source": [
    "# Exemple de boucle\n",
    "for i in range(5):\n",
    "    print(f\"Valeur de i: {i}\")\n"
   ]
  },
  {
   "cell_type": "code",
   "execution_count": 6,
   "id": "b9190a59",
   "metadata": {},
   "outputs": [
    {
     "name": "stdout",
     "output_type": "stream",
     "text": [
      "Valeur de i: 0\n",
      "Valeur de i: 1\n",
      "Valeur de i: 2\n",
      "Valeur de i: 3\n",
      "Valeur de i: 4\n"
     ]
    }
   ],
   "source": [
    "# Exemple de boucle while\n",
    "i = 0\n",
    "while i < 5:\n",
    "    print(f\"Valeur de i: {i}\")\n",
    "    i += 1\n"
   ]
  },
  {
   "cell_type": "code",
   "execution_count": 7,
   "id": "816d6f7d",
   "metadata": {},
   "outputs": [
    {
     "name": "stdout",
     "output_type": "stream",
     "text": [
      "Vous êtes majeur.\n"
     ]
    }
   ],
   "source": [
    "# Exemple de structure conditionnelle\n",
    "age = 18\n",
    "if age >= 18:\n",
    "    print(\"Vous êtes majeur.\")\n",
    "else:\n",
    "    print(\"Vous êtes mineur.\")\n"
   ]
  },
  {
   "cell_type": "code",
   "execution_count": 8,
   "id": "0b853fb4",
   "metadata": {},
   "outputs": [
    {
     "name": "stdout",
     "output_type": "stream",
     "text": [
      "Le carré de 4 est 16\n"
     ]
    }
   ],
   "source": [
    "# Exemple de fonction\n",
    "def carre(n):\n",
    "    return n ** 2\n",
    "print(f\"Le carré de 4 est {carre(4)}\")\n"
   ]
  },
  {
   "cell_type": "code",
   "execution_count": 9,
   "id": "329e146f",
   "metadata": {},
   "outputs": [
    {
     "name": "stdout",
     "output_type": "stream",
     "text": [
      "La racine carrée de 16 est 4.0\n"
     ]
    }
   ],
   "source": [
    "# Exemple d'importation de module\n",
    "import math\n",
    "print(f\"La racine carrée de 16 est {math.sqrt(16)}\")\n"
   ]
  },
  {
   "cell_type": "code",
   "execution_count": null,
   "id": "260f812b",
   "metadata": {},
   "outputs": [],
   "source": [
    "# Exemple de liste\n",
    "fruits = [\"pomme\", \"banane\", \"cerise\"]\n",
    "print(f\"Première fruit: {fruits[0]}\")\n",
    "\n",
    "\n"
   ]
  },
  {
   "cell_type": "code",
   "execution_count": null,
   "id": "3979fc02",
   "metadata": {},
   "outputs": [],
   "source": [
    "# Exemple de dictionnaire\n",
    "age = {\"Alice\": 25, \"Bob\": 30}\n",
    "age[\"Charlie\"] = 35\n",
    "print(f\"L'âge de Bob est {age['Bob']}\")"
   ]
  }
 ],
 "metadata": {
  "kernelspec": {
   "display_name": "Python 3 (ipykernel)",
   "language": "python",
   "name": "python3"
  },
  "language_info": {
   "codemirror_mode": {
    "name": "ipython",
    "version": 3
   },
   "file_extension": ".py",
   "mimetype": "text/x-python",
   "name": "python",
   "nbconvert_exporter": "python",
   "pygments_lexer": "ipython3",
   "version": "3.9.12"
  }
 },
 "nbformat": 4,
 "nbformat_minor": 5
}
